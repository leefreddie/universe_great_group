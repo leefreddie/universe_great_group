{
 "cells": [
  {
   "cell_type": "code",
   "execution_count": 7,
   "id": "initial_id",
   "metadata": {
    "ExecuteTime": {
     "end_time": "2025-05-12T14:24:25.642143Z",
     "start_time": "2025-05-12T14:24:25.638871Z"
    },
    "collapsed": true
   },
   "outputs": [],
   "source": [
    "#mass-energy equation\n",
    "c=3*10**8\n",
    "def MEE(mass):    \n",
    "        return(mass*(c**2))\n",
    "\n"
   ]
  },
  {
   "cell_type": "code",
   "execution_count": null,
   "id": "269a16ca",
   "metadata": {},
   "outputs": [],
   "source": [
    "mass=input(\"质量为：\")\n",
    "print(\"完全转化后能量为：\",MEE(mass))"
   ]
  }
 ],
 "metadata": {
  "kernelspec": {
   "display_name": "Python 3",
   "language": "python",
   "name": "python3"
  },
  "language_info": {
   "codemirror_mode": {
    "name": "ipython",
    "version": 3
   },
   "file_extension": ".py",
   "mimetype": "text/x-python",
   "name": "python",
   "nbconvert_exporter": "python",
   "pygments_lexer": "ipython3",
   "version": "3.11.9"
  }
 },
 "nbformat": 4,
 "nbformat_minor": 5
}
