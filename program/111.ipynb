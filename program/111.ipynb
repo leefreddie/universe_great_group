{
 "cells": [
  {
   "cell_type": "code",
   "execution_count": null,
   "id": "initial_id",
   "metadata": {
    "ExecuteTime": {
     "end_time": "2025-05-12T13:37:23.520163Z",
     "start_time": "2025-05-12T13:37:23.514186Z"
    },
    "collapsed": true
   },
   "outputs": [],
   "source": [
    "def name():    \n",
    "        print (\"lxzsb\")\n",
    "        return\n",
    "\n",
    "name"
   ]
  }
 ],
 "metadata": {
  "kernelspec": {
   "display_name": "Python 3",
   "language": "python",
   "name": "python3"
  },
  "language_info": {
   "codemirror_mode": {
    "name": "ipython",
    "version": 3
   },
   "file_extension": ".py",
   "mimetype": "text/x-python",
   "name": "python",
   "nbconvert_exporter": "python",
   "pygments_lexer": "ipython3",
   "version": "3.11.9"
  }
 },
 "nbformat": 4,
 "nbformat_minor": 5
}
