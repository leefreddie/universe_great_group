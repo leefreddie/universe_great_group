{
 "cells": [
  {
   "metadata": {
    "ExecuteTime": {
     "end_time": "2025-05-12T14:42:58.513007Z",
     "start_time": "2025-05-12T14:42:55.990285Z"
    }
   },
   "cell_type": "code",
   "source": [
    "# 定义光速常量\n",
    "c = 3e8  # 光速，单位：m/s\n",
    "\n",
    "def MEE(mass):\n",
    "    \"\"\"\n",
    "    根据质能方程 E=mc^2 计算能量。\n",
    "    :param mass: 质量（以千克为单位）\n",
    "    :return: 能量（单位：焦耳）\n",
    "    \"\"\"\n",
    "    try:\n",
    "        # 确保输入的质量是浮点数\n",
    "        mass = float(mass)\n",
    "        # 计算能量\n",
    "        energy = mass * (c ** 2)\n",
    "        return energy\n",
    "    except ValueError:\n",
    "        # 如果输入无法转换为浮点数，抛出错误提示\n",
    "        raise ValueError(\"输入的质量必须是一个数字！\")\n",
    "\n",
    "# 获取用户输入\n",
    "mass = input(\"质量为：\")\n",
    "try:\n",
    "    # 计算能量\n",
    "    energy = MEE(mass)\n",
    "    # 使用科学计数法格式化输出\n",
    "    print(f\"完全转化后能量为：{energy:.2e} 焦耳\")\n",
    "except ValueError as e:\n",
    "    # 捕获并显示错误信息\n",
    "    print(f\"错误：{e}\")\n"
   ],
   "id": "7a08c7d8a86a0d8a",
   "outputs": [
    {
     "name": "stdout",
     "output_type": "stream",
     "text": [
      "完全转化后能量为：9.00e+16 焦耳\n"
     ]
    }
   ],
   "execution_count": 13
  }
 ],
 "metadata": {
  "kernelspec": {
   "display_name": "Python 3",
   "language": "python",
   "name": "python3"
  },
  "language_info": {
   "codemirror_mode": {
    "name": "ipython",
    "version": 3
   },
   "file_extension": ".py",
   "mimetype": "text/x-python",
   "name": "python",
   "nbconvert_exporter": "python",
   "pygments_lexer": "ipython3",
   "version": "3.11.9"
  }
 },
 "nbformat": 4,
 "nbformat_minor": 5
}
